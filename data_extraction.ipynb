{
 "cells": [
  {
   "cell_type": "code",
   "execution_count": 1,
   "id": "ca568253-a3ef-4094-8813-cd36322510bc",
   "metadata": {},
   "outputs": [],
   "source": [
    "from os import path as osp\n",
    "import os\n",
    "from shutil import copy\n",
    "import pandas as pd"
   ]
  },
  {
   "cell_type": "code",
   "execution_count": 55,
   "id": "2e6da300-f4a0-436a-bed0-171fc3f35313",
   "metadata": {},
   "outputs": [],
   "source": [
    "# metadata \n",
    "df = pd.read_csv(\"data/screenshots_infos.csv\", sep=\";\")"
   ]
  },
  {
   "cell_type": "code",
   "execution_count": 42,
   "id": "b53c4455-72f3-4ce3-bae4-818f3ff9baaa",
   "metadata": {},
   "outputs": [],
   "source": [
    "def craft_final_fname(row: pd.Series) -> str:\n",
    "    fdate = row.init_fname.split(\" \")[2]\n",
    "    return f\"screen_{fdate}_var-{row.variable}_min-{row.scale_mini}_max-{row.scale_maxi}_season-{row.season}.png\""
   ]
  },
  {
   "cell_type": "code",
   "execution_count": 43,
   "id": "adc1f273-802a-409e-8f57-128fc3fa3512",
   "metadata": {},
   "outputs": [],
   "source": [
    "df[\"final_fname\"] = df.apply(craft_final_fname, axis=1)"
   ]
  },
  {
   "cell_type": "code",
   "execution_count": 53,
   "id": "7776e1d1-6d38-4e9b-bb47-5c5e931947da",
   "metadata": {},
   "outputs": [],
   "source": [
    "OUTPUT_DIR = \"data/screenshots\"\n",
    "os.makedirs(OUTPUT_DIR, exist_ok=True)\n",
    "for i, row in df.iterrows():\n",
    "    src = osp.join(row.init_folder, row.init_fname)\n",
    "    dst = osp.join(OUTPUT_DIR, row.final_fname)\n",
    "    copy(src, dst)"
   ]
  },
  {
   "cell_type": "code",
   "execution_count": 64,
   "id": "c28e6a41-fb3c-476c-b766-4069911bd626",
   "metadata": {},
   "outputs": [
    {
     "name": "stdout",
     "output_type": "stream",
     "text": [
      "variable`\n",
      "- `season`\n",
      "- `scale_mini`\n",
      "- `scale_maxi`\n",
      "- `unit`\n",
      "- `init_fname`\n",
      "- `init_folder\n"
     ]
    }
   ],
   "source": [
    "print(\"`\\n- `\".join(df.columns.tolist()))"
   ]
  },
  {
   "cell_type": "code",
   "execution_count": null,
   "id": "31d9354c-6459-4b63-ae2f-125035a87df6",
   "metadata": {},
   "outputs": [],
   "source": []
  }
 ],
 "metadata": {
  "kernelspec": {
   "display_name": "heating",
   "language": "python",
   "name": "heating"
  },
  "language_info": {
   "codemirror_mode": {
    "name": "ipython",
    "version": 3
   },
   "file_extension": ".py",
   "mimetype": "text/x-python",
   "name": "python",
   "nbconvert_exporter": "python",
   "pygments_lexer": "ipython3",
   "version": "3.11.3"
  }
 },
 "nbformat": 4,
 "nbformat_minor": 5
}
