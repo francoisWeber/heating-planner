{
 "cells": [
  {
   "cell_type": "code",
   "execution_count": 35,
   "id": "ca568253-a3ef-4094-8813-cd36322510bc",
   "metadata": {},
   "outputs": [],
   "source": [
    "from os import path as osp\n",
    "import os\n",
    "from shutil import copy\n",
    "import pandas as pd\n",
    "\n",
    "import numpy as np"
   ]
  },
  {
   "cell_type": "code",
   "execution_count": 36,
   "id": "c0b97de5-1263-4aef-9907-2175ed334b1c",
   "metadata": {},
   "outputs": [],
   "source": [
    "from PIL import Image"
   ]
  },
  {
   "cell_type": "code",
   "execution_count": 37,
   "id": "d95f1431-74c6-44cc-a535-4be203cac58d",
   "metadata": {},
   "outputs": [],
   "source": [
    "df = pd.read_csv(\"data/screenshots_infos.csv\")"
   ]
  },
  {
   "cell_type": "code",
   "execution_count": 38,
   "id": "aeca5d20-9824-4781-8b40-efe827c5f188",
   "metadata": {},
   "outputs": [
    {
     "data": {
      "text/plain": [
       "Unnamed: 0                                                     0\n",
       "variable                                                       T\n",
       "season                                                     Hiver\n",
       "scale_mini                                                   -10\n",
       "scale_maxi                                                    15\n",
       "unit                                                   degrees C\n",
       "init_fname           Capture d’écran 2023-08-01 à 15.28.20.png\n",
       "init_folder                             /Users/f.weber/Downloads\n",
       "final_fname    screen_2023-08-01_var-T_min--10_max-15_season-...\n",
       "Name: 0, dtype: object"
      ]
     },
     "execution_count": 38,
     "metadata": {},
     "output_type": "execute_result"
    }
   ],
   "source": [
    "data = df.iloc[0]\n",
    "data"
   ]
  },
  {
   "cell_type": "code",
   "execution_count": 39,
   "id": "b0a00b2a-cf68-4235-abdf-6ef3fd0523f5",
   "metadata": {},
   "outputs": [],
   "source": [
    "img = Image.open(osp.join(\"data/screenshots/\", data.final_fname))"
   ]
  },
  {
   "cell_type": "code",
   "execution_count": 40,
   "id": "0f134c77-e601-4b12-8b26-bf1de302ba1c",
   "metadata": {},
   "outputs": [],
   "source": [
    "img.show()"
   ]
  },
  {
   "cell_type": "code",
   "execution_count": null,
   "id": "afebe891-d1e5-4582-af9b-ebca79df8dc6",
   "metadata": {},
   "outputs": [],
   "source": []
  }
 ],
 "metadata": {
  "kernelspec": {
   "display_name": "heating",
   "language": "python",
   "name": "heating"
  },
  "language_info": {
   "codemirror_mode": {
    "name": "ipython",
    "version": 3
   },
   "file_extension": ".py",
   "mimetype": "text/x-python",
   "name": "python",
   "nbconvert_exporter": "python",
   "pygments_lexer": "ipython3",
   "version": "3.11.3"
  }
 },
 "nbformat": 4,
 "nbformat_minor": 5
}
